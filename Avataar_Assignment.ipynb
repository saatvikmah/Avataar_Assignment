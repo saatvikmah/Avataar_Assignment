{
  "nbformat": 4,
  "nbformat_minor": 0,
  "metadata": {
    "colab": {
      "provenance": [],
      "gpuType": "T4"
    },
    "kernelspec": {
      "name": "python3",
      "display_name": "Python 3"
    },
    "language_info": {
      "name": "python"
    },
    "accelerator": "GPU"
  },
  "cells": [
    {
      "cell_type": "code",
      "source": [
        "import open3d as o3d\n",
        "import numpy as np\n",
        "point_cloud = o3d.io.read_point_cloud(\"/content/vase_pc.ply\")\n",
        "\n",
        "# Maximum distance a point can be from the plane to be considered an inlier\n",
        "distance_threshold = 0.01\n",
        "# Number of points to sample\n",
        "ransac_n = 3\n",
        "# Number of iterations\n",
        "num_iterations = 5000\n",
        "\n",
        "plane_model, inliers = point_cloud.segment_plane(distance_threshold, ransac_n, num_iterations)\n",
        "floor_points = point_cloud.select_by_index(inliers)\n",
        "\n",
        "# Compute Covariance Matrix\n",
        "centroid = np.mean(floor_points.points, axis=0)\n",
        "centered_points = floor_points.points - centroid\n",
        "covariance_matrix = np.cov(centered_points, rowvar=False)\n",
        "\n",
        "# Compute Eigenvectors and Eigenvalues\n",
        "eigenvalues, eigenvectors = np.linalg.eigh(covariance_matrix)\n",
        "\n",
        "# Select Principal Axis\n",
        "min_eigenvalue_index = np.argmin(eigenvalues)\n",
        "principal_axis = eigenvectors[:, min_eigenvalue_index]\n",
        "\n",
        "# Construct Rotation Matrix\n",
        "v1 = principal_axis\n",
        "v2 = np.array([0, 1, 0])  # Arbitrary orthogonal vector\n",
        "v3 = np.cross(v1, v2)\n",
        "rotation_matrix = np.column_stack((v1, v2, v3))\n",
        "\n",
        "# Apply Rotation Matrix\n",
        "rotated_points = np.dot(centered_points, rotation_matrix)\n",
        "\n",
        "# Rotating full point cloud\n",
        "rotated_pc = np.dot(point_cloud.points, rotation_matrix)\n",
        "\n",
        "# Translating full point cloud\n",
        "pc_centroid = np.mean(rotated_pc, axis=0)\n",
        "pc_centered = rotated_pc - pc_centroid\n",
        "\n",
        "rotated_point_cloud = o3d.geometry.PointCloud()\n",
        "rotated_point_cloud.points = o3d.utility.Vector3dVector(pc_centered)\n",
        "\n",
        "output_ply_file = \"vase_pc_rotated.ply\"\n",
        "o3d.io.write_point_cloud(output_ply_file, rotated_point_cloud)\n",
        "\n",
        "# Multiple saves and loads to save rotated point clouds\n",
        "output_ply_file = \"vase_pc_rotated.ply\"\n",
        "point_cloud = o3d.io.read_point_cloud(output_ply_file)\t#rotated point cloud\n",
        "pcd = o3d.geometry.PointCloud()\n",
        "pcd.points = point_cloud.points\n",
        "\n",
        "# Assigning random color and estimating normals for mesh creation\n",
        "color = [1.0, 0.3, 0.5]\n",
        "num_points = len(point_cloud.points)\n",
        "colors = o3d.utility.Vector3dVector([color] * num_points)\n",
        "pcd.colors = colors\n",
        "point_cloud.estimate_normals()\n",
        "pcd.normals = point_cloud.normals\n",
        "print(pcd.points)\n",
        "print(pcd.colors)\n",
        "print(pcd.normals)\n",
        "\n",
        "#Creating Mesh\n",
        "mesh, densities = o3d.geometry.TriangleMesh.create_from_point_cloud_poisson(pcd, n_threads=1)\n",
        "o3d.io.write_triangle_mesh(\"vase_mesh_rotated.obj\", mesh)"
      ],
      "metadata": {
        "colab": {
          "base_uri": "https://localhost:8080/"
        },
        "id": "EL3hn115TyYI",
        "outputId": "670b9d63-f38e-4737-8b65-88efe6fed877"
      },
      "execution_count": 17,
      "outputs": [
        {
          "output_type": "stream",
          "name": "stdout",
          "text": [
            "std::vector<Eigen::Vector3d> with 157320 elements.\n",
            "Use numpy.asarray() to access data.\n",
            "std::vector<Eigen::Vector3d> with 157320 elements.\n",
            "Use numpy.asarray() to access data.\n",
            "std::vector<Eigen::Vector3d> with 157320 elements.\n",
            "Use numpy.asarray() to access data.\n"
          ]
        },
        {
          "output_type": "execute_result",
          "data": {
            "text/plain": [
              "True"
            ]
          },
          "metadata": {},
          "execution_count": 17
        }
      ]
    },
    {
      "cell_type": "code",
      "source": [
        "def unit_test():\n",
        "    # Generate a random point cloud\n",
        "    num_points = 1000\n",
        "    points = np.random.rand(num_points, 3) * 10  # Random points in 3D space\n",
        "    points[:, 1] = np.random.normal(loc=0, scale=0.1, size=num_points)  # Introduce noise in y-coordinates\n",
        "    point_cloud = o3d.geometry.PointCloud()\n",
        "    point_cloud.points = o3d.utility.Vector3dVector(points)\n",
        "\n",
        "    # Apply random transformation (rotation and translation)\n",
        "    rotation_matrix = o3d.geometry.get_rotation_matrix_from_xyz(np.random.uniform(-np.pi, np.pi, size=(3,)))\n",
        "    translation_vector = np.random.uniform(-5, 5, size=(3,))\n",
        "    point_cloud.transform(rotation_matrix)\n",
        "    point_cloud.translate(translation_vector)\n",
        "\n",
        "    # Align the entire point cloud to the YZ plane\n",
        "    aligned_point_cloud = align_to_yz_plane(point_cloud)\n",
        "\n",
        "    # Save the aligned point cloud to a PLY file for visualization\n",
        "    o3d.io.write_point_cloud(\"aligned_point_cloud.ply\", aligned_point_cloud)\n",
        "\n",
        "# Run unit test\n",
        "unit_test()"
      ],
      "metadata": {
        "id": "z5ag0i9mEJaa"
      },
      "execution_count": null,
      "outputs": []
    }
  ]
}